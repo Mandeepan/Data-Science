{
 "cells": [
  {
   "cell_type": "code",
   "execution_count": 1,
   "metadata": {
    "collapsed": true
   },
   "outputs": [],
   "source": [
    "import pandas as pd\n",
    "import random"
   ]
  },
  {
   "cell_type": "code",
   "execution_count": 2,
   "metadata": {
    "collapsed": true
   },
   "outputs": [],
   "source": [
    "#input data \n",
    "creditData=pd.read_csv('/Users/Mandy/Study/SpringBoard/Capstone 1/Data/Modified Dataset.csv')"
   ]
  },
  {
   "cell_type": "code",
   "execution_count": 3,
   "metadata": {
    "collapsed": true
   },
   "outputs": [],
   "source": [
    "client_ID=creditData.iloc[:,0]\n",
    "limit_bal=creditData.iloc[:,1]\n",
    "sex=creditData.iloc[:,2]\n",
    "education=creditData.iloc[:,3]\n",
    "marriage=creditData.iloc[:,4]\n",
    "age=creditData.iloc[:,5]\n",
    "pay_0=creditData.iloc[:,6]\n",
    "pay_2=creditData.iloc[:,7]\n",
    "pay_3=creditData.iloc[:,8]\n",
    "pay_4=creditData.iloc[:,9]\n",
    "pay_5=creditData.iloc[:,10]\n",
    "pay_6=creditData.iloc[:,11]\n",
    "bill_amt1=creditData.iloc[:,12]\n",
    "bill_amt2=creditData.iloc[:,13]\n",
    "bill_amt3=creditData.iloc[:,14]\n",
    "bill_amt4=creditData.iloc[:,15]\n",
    "bill_amt5=creditData.iloc[:,16]\n",
    "bill_amt6=creditData.iloc[:,17]\n",
    "pay_amt1=creditData.iloc[:,18]\n",
    "pay_amt2=creditData.iloc[:,19]\n",
    "pay_amt3=creditData.iloc[:,20]\n",
    "pay_amt4=creditData.iloc[:,21]\n",
    "pay_amt5=creditData.iloc[:,22]\n",
    "pay_amt6=creditData.iloc[:,23]\n",
    "interest_rate=creditData.iloc[:,24]\n",
    "employed_persons=creditData.iloc[:,25]\n",
    "cpi=creditData.iloc[:,26]\n",
    "consumer_confidence=creditData.iloc[:,27]\n",
    "default_next_month=creditData.iloc[:,28]"
   ]
  },
  {
   "cell_type": "code",
   "execution_count": 5,
   "metadata": {},
   "outputs": [],
   "source": [
    "# randomly pick the monthly datas to each cells for economic datas\n",
    "\n",
    "for index,rowValue in interest_rate.iteritems():\n",
    "        interest_rate[index]=random.choice([1.88,2,2.13])\n",
    "\n",
    "for index,rowValue in employed_persons.iteritems():\n",
    "        employed_persons[index]=random.choice([9916,9929,9931,9933,9949,9969])\n",
    "        \n",
    "for index,rowValue in cpi.iteritems():\n",
    "        cpi[index]=random.choice([92.02,92.53,92.82,93.9,94.6,94.73])\n",
    "\n",
    "for index,rowValue in consumer_confidence.iteritems():\n",
    "        consumer_confidence[index]=random.choice([73.15,73.06,74.79,73.15,73.38,71.42])\n"
   ]
  },
  {
   "cell_type": "code",
   "execution_count": 6,
   "metadata": {
    "collapsed": true
   },
   "outputs": [],
   "source": [
    "#Cut the dataset into training set, validation set and backtesting set\n",
    "client_ID_training=creditData.iloc[:21002,0]\n",
    "limit_bal_training=creditData.iloc[:21002,1]\n",
    "sex_training=creditData.iloc[:21002,2]\n",
    "education_training=creditData.iloc[:21002,3]\n",
    "marriage_training=creditData.iloc[:21002,4]\n",
    "age_training=creditData.iloc[:21002,5]\n",
    "pay_0_training=creditData.iloc[:21002,6]\n",
    "pay_2_training=creditData.iloc[:21002,7]\n",
    "pay_3_training=creditData.iloc[:21002,8]\n",
    "pay_4_training=creditData.iloc[:21002,9]\n",
    "pay_5_training=creditData.iloc[:21002,10]\n",
    "pay_6_training=creditData.iloc[:21002,11]\n",
    "bill_amt1_training=creditData.iloc[:21002,12]\n",
    "bill_amt2_training=creditData.iloc[:21002,13]\n",
    "bill_amt3_training=creditData.iloc[:21002,14]\n",
    "bill_amt4_training=creditData.iloc[:21002,15]\n",
    "bill_amt5_training=creditData.iloc[:21002,16]\n",
    "bill_amt6_training=creditData.iloc[:21002,17]\n",
    "pay_amt1_training=creditData.iloc[:21002,18]\n",
    "pay_amt2_training=creditData.iloc[:21002,19]\n",
    "pay_amt3_training=creditData.iloc[:21002,20]\n",
    "pay_amt4_training=creditData.iloc[:21002,21]\n",
    "pay_amt5_training=creditData.iloc[:21002,22]\n",
    "pay_amt6_training=creditData.iloc[:21002,23]\n",
    "interest_rate_training=creditData.iloc[:21002,24]\n",
    "employed_persons_training=creditData.iloc[:21002,25]\n",
    "cpi_training=creditData.iloc[:21002,26]\n",
    "consumer_confidence_training=creditData.iloc[:21002,27]\n",
    "default_next_month_training=creditData.iloc[:21002,28]\n",
    "\n",
    "client_ID_validation=creditData.iloc[21002:25502,0]\n",
    "limit_bal_validation=creditData.iloc[21002:25502,1]\n",
    "sex_validation=creditData.iloc[21002:25502,2]\n",
    "education_validation=creditData.iloc[21002:25502,3]\n",
    "marriage_validation=creditData.iloc[21002:25502,4]\n",
    "age_validation=creditData.iloc[21002:25502,5]\n",
    "pay_0_validation=creditData.iloc[21002:25502,6]\n",
    "pay_2_validation=creditData.iloc[21002:25502,7]\n",
    "pay_3_validation=creditData.iloc[21002:25502,8]\n",
    "pay_4_validation=creditData.iloc[21002:25502,9]\n",
    "pay_5_validation=creditData.iloc[21002:25502,10]\n",
    "pay_6_validation=creditData.iloc[21002:25502,11]\n",
    "bill_amt1_validation=creditData.iloc[21002:25502,12]\n",
    "bill_amt2_validation=creditData.iloc[21002:25502,13]\n",
    "bill_amt3_validation=creditData.iloc[21002:25502,14]\n",
    "bill_amt4_validation=creditData.iloc[21002:25502,15]\n",
    "bill_amt5_validation=creditData.iloc[21002:25502,16]\n",
    "bill_amt6_validation=creditData.iloc[21002:25502,17]\n",
    "pay_amt1_validation=creditData.iloc[21002:25502,18]\n",
    "pay_amt2_validation=creditData.iloc[21002:25502,19]\n",
    "pay_amt3_validation=creditData.iloc[21002:25502,20]\n",
    "pay_amt4_validation=creditData.iloc[21002:25502,21]\n",
    "pay_amt5_validation=creditData.iloc[21002:25502,22]\n",
    "pay_amt6_validation=creditData.iloc[21002:25502,23]\n",
    "interest_rate_validation=creditData.iloc[21002:25502,24]\n",
    "employed_persons_validation=creditData.iloc[21002:25502,25]\n",
    "cpi_validation=creditData.iloc[21002:25502,26]\n",
    "consumer_confidence_validation=creditData.iloc[21002:25502,27]\n",
    "default_next_month_validation=creditData.iloc[21002:25502,28]\n",
    "\n",
    "client_ID_testing=creditData.iloc[25502:30001,0]\n",
    "limit_bal_testing=creditData.iloc[25502:30001,1]\n",
    "sex_testing=creditData.iloc[25502:30001,2]\n",
    "education_testing=creditData.iloc[25502:30001,3]\n",
    "marriage_testing=creditData.iloc[25502:30001,4]\n",
    "age_testing=creditData.iloc[25502:30001,5]\n",
    "pay_0_testing=creditData.iloc[25502:30001,6]\n",
    "pay_2_testing=creditData.iloc[25502:30001,7]\n",
    "pay_3_testing=creditData.iloc[25502:30001,8]\n",
    "pay_4_testing=creditData.iloc[25502:30001,9]\n",
    "pay_5_testing=creditData.iloc[25502:30001,10]\n",
    "pay_6_testing=creditData.iloc[25502:30001,11]\n",
    "bill_amt1_testing=creditData.iloc[25502:30001,12]\n",
    "bill_amt2_testing=creditData.iloc[25502:30001,13]\n",
    "bill_amt3_testing=creditData.iloc[25502:30001,14]\n",
    "bill_amt4_testing=creditData.iloc[25502:30001,15]\n",
    "bill_amt5_testing=creditData.iloc[25502:30001,16]\n",
    "bill_amt6_testing=creditData.iloc[25502:30001,17]\n",
    "pay_amt1_testing=creditData.iloc[25502:30001,18]\n",
    "pay_amt2_testing=creditData.iloc[25502:30001,19]\n",
    "pay_amt3_testing=creditData.iloc[25502:30001,20]\n",
    "pay_amt4_testing=creditData.iloc[25502:30001,21]\n",
    "pay_amt5_testing=creditData.iloc[25502:30001,22]\n",
    "pay_amt6_testing=creditData.iloc[25502:30001,23]\n",
    "interest_rate_testing=creditData.iloc[25502:30001,24]\n",
    "employed_persons_testing=creditData.iloc[25502:30001,25]\n",
    "cpi_testing=creditData.iloc[25502:30001,26]\n",
    "consumer_confidence_testing=creditData.iloc[25502:30001,27]\n",
    "default_next_month_testing=creditData.iloc[25502:30001,28]\n"
   ]
  }
 ],
 "metadata": {
  "kernelspec": {
   "display_name": "Python 3",
   "language": "python",
   "name": "python3"
  },
  "language_info": {
   "codemirror_mode": {
    "name": "ipython",
    "version": 3
   },
   "file_extension": ".py",
   "mimetype": "text/x-python",
   "name": "python",
   "nbconvert_exporter": "python",
   "pygments_lexer": "ipython3",
   "version": "3.6.3"
  }
 },
 "nbformat": 4,
 "nbformat_minor": 2
}
