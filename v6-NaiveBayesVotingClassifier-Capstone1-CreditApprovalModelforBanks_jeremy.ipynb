{
 "cells": [
  {
   "cell_type": "markdown",
   "metadata": {},
   "source": [
    "### In general everything looks really good. You will see where I used built in functions to do what you did manually. \n",
    "### Your way is great for knowledge but of course, I am lazy so I use the built in functions.  As for your error with \n",
    "### scaling, you were scaling your dependent variable and that was causing problems.  "
   ]
  },
  {
   "cell_type": "code",
   "execution_count": 55,
   "metadata": {
    "collapsed": false,
    "deletable": true,
    "editable": true
   },
   "outputs": [],
   "source": [
    "import pandas as pd\n",
    "import random\n",
    "import numpy as np\n",
    "import statsmodels.api as sm\n",
    "import matplotlib.pyplot as plt\n",
    "from patsy import dmatrices\n",
    "from sklearn.linear_model import LogisticRegression\n",
    "from sklearn.tree import DecisionTreeRegressor\n",
    "from sklearn.cross_validation import train_test_split\n",
    "from sklearn import metrics\n",
    "from sklearn.cross_validation import cross_val_score\n",
    "from sklearn.ensemble import RandomForestClassifier, VotingClassifier\n",
    "from sklearn.model_selection import KFold\n",
    "from sklearn.naive_bayes import GaussianNB\n",
    "from sklearn.metrics import accuracy_score\n",
    "\n",
    "#set the random seed as zero\n",
    "np.random.seed(0)"
   ]
  },
  {
   "cell_type": "code",
   "execution_count": 56,
   "metadata": {
    "collapsed": true,
    "deletable": true,
    "editable": true
   },
   "outputs": [],
   "source": [
    "#input data \n",
    "creditData=pd.read_csv('Modified Dataset.csv', header=0)"
   ]
  },
  {
   "cell_type": "code",
   "execution_count": 57,
   "metadata": {
    "collapsed": true,
    "deletable": true,
    "editable": true
   },
   "outputs": [],
   "source": [
    "#subset macro-economic data\n",
    "limit_bal=creditData.iloc[:,1]\n",
    "sex=creditData.iloc[:,2]\n",
    "education=creditData.iloc[:,3]\n",
    "marriage=creditData.iloc[:,4]\n",
    "age=creditData.iloc[:,5]\n",
    "pay_0=creditData.iloc[:,6]\n",
    "pay_2=creditData.iloc[:,7]\n",
    "pay_3=creditData.iloc[:,8]\n",
    "pay_4=creditData.iloc[:,9]\n",
    "pay_5=creditData.iloc[:,10]\n",
    "pay_6=creditData.iloc[:,11]\n",
    "bill_amt1=creditData.iloc[:,12]\n",
    "bill_amt2=creditData.iloc[:,13]\n",
    "bill_amt3=creditData.iloc[:,14]\n",
    "bill_amt4=creditData.iloc[:,15]\n",
    "bill_amt5=creditData.iloc[:,16]\n",
    "bill_amt6=creditData.iloc[:,17]\n",
    "pay_amt1=creditData.iloc[:,18]\n",
    "pay_amt2=creditData.iloc[:,19]\n",
    "pay_amt3=creditData.iloc[:,20]\n",
    "pay_amt4=creditData.iloc[:,21]\n",
    "pay_amt5=creditData.iloc[:,22]\n",
    "pay_amt6=creditData.iloc[:,23]\n",
    "interest_rate=creditData.iloc[:,24]\n",
    "employed_persons=creditData.iloc[:,25]\n",
    "cpi=creditData.iloc[:,26]\n",
    "consumer_confidence=creditData.iloc[:,27]\n",
    "default_next_month=creditData.iloc[:,28]\n"
   ]
  },
  {
   "cell_type": "code",
   "execution_count": 58,
   "metadata": {
    "collapsed": true,
    "deletable": true,
    "editable": true
   },
   "outputs": [],
   "source": [
    "# randomly pick the monthly datas to each cells for economic datas\n",
    "\n",
    "for index,rowValue in interest_rate.iteritems():\n",
    "        interest_rate[index]=random.choice([1.88,2,2.13])\n",
    "\n",
    "for index,rowValue in employed_persons.iteritems():\n",
    "        employed_persons[index]=random.choice([9916,9929,9931,9933,9949,9969])\n",
    "        \n",
    "for index,rowValue in cpi.iteritems():\n",
    "        cpi[index]=random.choice([92.02,92.53,92.82,93.9,94.6,94.73])\n",
    "\n",
    "for index,rowValue in consumer_confidence.iteritems():\n",
    "        consumer_confidence[index]=random.choice([73.15,73.06,74.79,73.15,73.38,71.42])\n"
   ]
  },
  {
   "cell_type": "code",
   "execution_count": 59,
   "metadata": {
    "collapsed": false,
    "deletable": true,
    "editable": true
   },
   "outputs": [
    {
     "data": {
      "text/plain": [
       "0    23364\n",
       "1     6636\n",
       "Name: default payment next month, dtype: int64"
      ]
     },
     "execution_count": 59,
     "metadata": {},
     "output_type": "execute_result"
    }
   ],
   "source": [
    "#Data Exploration\n",
    "default_next_month.value_counts()"
   ]
  },
  {
   "cell_type": "code",
   "execution_count": 60,
   "metadata": {
    "collapsed": false
   },
   "outputs": [],
   "source": [
    "creditData.rename(columns={'default payment next month':'Default_Next_Month'},inplace=True)"
   ]
  },
  {
   "cell_type": "code",
   "execution_count": 63,
   "metadata": {
    "collapsed": false,
    "deletable": true,
    "editable": true,
    "scrolled": true
   },
   "outputs": [
    {
     "data": {
      "text/html": [
       "<div>\n",
       "<style scoped>\n",
       "    .dataframe tbody tr th:only-of-type {\n",
       "        vertical-align: middle;\n",
       "    }\n",
       "\n",
       "    .dataframe tbody tr th {\n",
       "        vertical-align: top;\n",
       "    }\n",
       "\n",
       "    .dataframe thead th {\n",
       "        text-align: right;\n",
       "    }\n",
       "</style>\n",
       "<table border=\"1\" class=\"dataframe\">\n",
       "  <thead>\n",
       "    <tr style=\"text-align: right;\">\n",
       "      <th></th>\n",
       "      <th>ID</th>\n",
       "      <th>LIMIT_BAL</th>\n",
       "      <th>SEX</th>\n",
       "      <th>EDUCATION</th>\n",
       "      <th>MARRIAGE</th>\n",
       "      <th>AGE</th>\n",
       "      <th>PAY_0</th>\n",
       "      <th>PAY_2</th>\n",
       "      <th>PAY_3</th>\n",
       "      <th>PAY_4</th>\n",
       "      <th>...</th>\n",
       "      <th>PAY_AMT1</th>\n",
       "      <th>PAY_AMT2</th>\n",
       "      <th>PAY_AMT3</th>\n",
       "      <th>PAY_AMT4</th>\n",
       "      <th>PAY_AMT5</th>\n",
       "      <th>PAY_AMT6</th>\n",
       "      <th>Interest_Rate</th>\n",
       "      <th>Employed_Persons</th>\n",
       "      <th>CPI</th>\n",
       "      <th>Consumer_Confidence</th>\n",
       "    </tr>\n",
       "    <tr>\n",
       "      <th>Default_Next_Month</th>\n",
       "      <th></th>\n",
       "      <th></th>\n",
       "      <th></th>\n",
       "      <th></th>\n",
       "      <th></th>\n",
       "      <th></th>\n",
       "      <th></th>\n",
       "      <th></th>\n",
       "      <th></th>\n",
       "      <th></th>\n",
       "      <th></th>\n",
       "      <th></th>\n",
       "      <th></th>\n",
       "      <th></th>\n",
       "      <th></th>\n",
       "      <th></th>\n",
       "      <th></th>\n",
       "      <th></th>\n",
       "      <th></th>\n",
       "      <th></th>\n",
       "      <th></th>\n",
       "    </tr>\n",
       "  </thead>\n",
       "  <tbody>\n",
       "    <tr>\n",
       "      <th>0</th>\n",
       "      <td>15064.893982</td>\n",
       "      <td>178099.726074</td>\n",
       "      <td>1.614150</td>\n",
       "      <td>1.841337</td>\n",
       "      <td>1.558637</td>\n",
       "      <td>35.417266</td>\n",
       "      <td>-0.211222</td>\n",
       "      <td>-0.301917</td>\n",
       "      <td>-0.316256</td>\n",
       "      <td>-0.355633</td>\n",
       "      <td>...</td>\n",
       "      <td>6307.337357</td>\n",
       "      <td>6640.465074</td>\n",
       "      <td>5753.496833</td>\n",
       "      <td>5300.529319</td>\n",
       "      <td>5248.220296</td>\n",
       "      <td>5719.371769</td>\n",
       "      <td>1.664955</td>\n",
       "      <td>9937.858457</td>\n",
       "      <td>92.840481</td>\n",
       "      <td>72.829695</td>\n",
       "    </tr>\n",
       "    <tr>\n",
       "      <th>1</th>\n",
       "      <td>14773.781947</td>\n",
       "      <td>130109.656420</td>\n",
       "      <td>1.567058</td>\n",
       "      <td>1.894665</td>\n",
       "      <td>1.528029</td>\n",
       "      <td>35.725738</td>\n",
       "      <td>0.668174</td>\n",
       "      <td>0.458258</td>\n",
       "      <td>0.362116</td>\n",
       "      <td>0.254521</td>\n",
       "      <td>...</td>\n",
       "      <td>3397.044153</td>\n",
       "      <td>3388.649638</td>\n",
       "      <td>3367.351567</td>\n",
       "      <td>3155.626733</td>\n",
       "      <td>3219.139542</td>\n",
       "      <td>3441.482068</td>\n",
       "      <td>1.664105</td>\n",
       "      <td>9937.694846</td>\n",
       "      <td>92.839361</td>\n",
       "      <td>72.825799</td>\n",
       "    </tr>\n",
       "  </tbody>\n",
       "</table>\n",
       "<p>2 rows × 28 columns</p>\n",
       "</div>"
      ],
      "text/plain": [
       "                              ID      LIMIT_BAL       SEX  EDUCATION  \\\n",
       "Default_Next_Month                                                     \n",
       "0                   15064.893982  178099.726074  1.614150   1.841337   \n",
       "1                   14773.781947  130109.656420  1.567058   1.894665   \n",
       "\n",
       "                    MARRIAGE        AGE     PAY_0     PAY_2     PAY_3  \\\n",
       "Default_Next_Month                                                      \n",
       "0                   1.558637  35.417266 -0.211222 -0.301917 -0.316256   \n",
       "1                   1.528029  35.725738  0.668174  0.458258  0.362116   \n",
       "\n",
       "                       PAY_4         ...              PAY_AMT1     PAY_AMT2  \\\n",
       "Default_Next_Month                   ...                                      \n",
       "0                  -0.355633         ...           6307.337357  6640.465074   \n",
       "1                   0.254521         ...           3397.044153  3388.649638   \n",
       "\n",
       "                       PAY_AMT3     PAY_AMT4     PAY_AMT5     PAY_AMT6  \\\n",
       "Default_Next_Month                                                       \n",
       "0                   5753.496833  5300.529319  5248.220296  5719.371769   \n",
       "1                   3367.351567  3155.626733  3219.139542  3441.482068   \n",
       "\n",
       "                    Interest_Rate  Employed_Persons        CPI  \\\n",
       "Default_Next_Month                                               \n",
       "0                        1.664955       9937.858457  92.840481   \n",
       "1                        1.664105       9937.694846  92.839361   \n",
       "\n",
       "                    Consumer_Confidence  \n",
       "Default_Next_Month                       \n",
       "0                             72.829695  \n",
       "1                             72.825799  \n",
       "\n",
       "[2 rows x 28 columns]"
      ]
     },
     "execution_count": 63,
     "metadata": {},
     "output_type": "execute_result"
    }
   ],
   "source": [
    "creditData.groupby('Default_Next_Month').mean()"
   ]
  },
  {
   "cell_type": "code",
   "execution_count": 64,
   "metadata": {
    "collapsed": false,
    "deletable": true,
    "editable": true
   },
   "outputs": [
    {
     "data": {
      "text/html": [
       "<div>\n",
       "<style scoped>\n",
       "    .dataframe tbody tr th:only-of-type {\n",
       "        vertical-align: middle;\n",
       "    }\n",
       "\n",
       "    .dataframe tbody tr th {\n",
       "        vertical-align: top;\n",
       "    }\n",
       "\n",
       "    .dataframe thead th {\n",
       "        text-align: right;\n",
       "    }\n",
       "</style>\n",
       "<table border=\"1\" class=\"dataframe\">\n",
       "  <thead>\n",
       "    <tr style=\"text-align: right;\">\n",
       "      <th></th>\n",
       "      <th>ID</th>\n",
       "      <th>LIMIT_BAL</th>\n",
       "      <th>EDUCATION</th>\n",
       "      <th>MARRIAGE</th>\n",
       "      <th>AGE</th>\n",
       "      <th>PAY_0</th>\n",
       "      <th>PAY_2</th>\n",
       "      <th>PAY_3</th>\n",
       "      <th>PAY_4</th>\n",
       "      <th>PAY_5</th>\n",
       "      <th>...</th>\n",
       "      <th>PAY_AMT2</th>\n",
       "      <th>PAY_AMT3</th>\n",
       "      <th>PAY_AMT4</th>\n",
       "      <th>PAY_AMT5</th>\n",
       "      <th>PAY_AMT6</th>\n",
       "      <th>Interest_Rate</th>\n",
       "      <th>Employed_Persons</th>\n",
       "      <th>CPI</th>\n",
       "      <th>Consumer_Confidence</th>\n",
       "      <th>Default_Next_Month</th>\n",
       "    </tr>\n",
       "    <tr>\n",
       "      <th>SEX</th>\n",
       "      <th></th>\n",
       "      <th></th>\n",
       "      <th></th>\n",
       "      <th></th>\n",
       "      <th></th>\n",
       "      <th></th>\n",
       "      <th></th>\n",
       "      <th></th>\n",
       "      <th></th>\n",
       "      <th></th>\n",
       "      <th></th>\n",
       "      <th></th>\n",
       "      <th></th>\n",
       "      <th></th>\n",
       "      <th></th>\n",
       "      <th></th>\n",
       "      <th></th>\n",
       "      <th></th>\n",
       "      <th></th>\n",
       "      <th></th>\n",
       "      <th></th>\n",
       "    </tr>\n",
       "  </thead>\n",
       "  <tbody>\n",
       "    <tr>\n",
       "      <th>1</th>\n",
       "      <td>14802.770104</td>\n",
       "      <td>163519.825034</td>\n",
       "      <td>1.839250</td>\n",
       "      <td>1.572090</td>\n",
       "      <td>36.519431</td>\n",
       "      <td>0.063257</td>\n",
       "      <td>-0.029189</td>\n",
       "      <td>-0.068557</td>\n",
       "      <td>-0.133832</td>\n",
       "      <td>-0.189182</td>\n",
       "      <td>...</td>\n",
       "      <td>5960.720138</td>\n",
       "      <td>5412.506057</td>\n",
       "      <td>4869.177995</td>\n",
       "      <td>4830.827052</td>\n",
       "      <td>5276.196753</td>\n",
       "      <td>1.669919</td>\n",
       "      <td>9937.804509</td>\n",
       "      <td>92.838156</td>\n",
       "      <td>72.831090</td>\n",
       "      <td>0.241672</td>\n",
       "    </tr>\n",
       "    <tr>\n",
       "      <th>2</th>\n",
       "      <td>15130.282078</td>\n",
       "      <td>170086.462014</td>\n",
       "      <td>1.862246</td>\n",
       "      <td>1.538593</td>\n",
       "      <td>34.806868</td>\n",
       "      <td>-0.069181</td>\n",
       "      <td>-0.202407</td>\n",
       "      <td>-0.230289</td>\n",
       "      <td>-0.277661</td>\n",
       "      <td>-0.316751</td>\n",
       "      <td>...</td>\n",
       "      <td>5895.200088</td>\n",
       "      <td>5103.057255</td>\n",
       "      <td>4797.786992</td>\n",
       "      <td>4778.752043</td>\n",
       "      <td>5175.665305</td>\n",
       "      <td>1.661385</td>\n",
       "      <td>9937.833922</td>\n",
       "      <td>92.841597</td>\n",
       "      <td>72.827352</td>\n",
       "      <td>0.207763</td>\n",
       "    </tr>\n",
       "  </tbody>\n",
       "</table>\n",
       "<p>2 rows × 28 columns</p>\n",
       "</div>"
      ],
      "text/plain": [
       "               ID      LIMIT_BAL  EDUCATION  MARRIAGE        AGE     PAY_0  \\\n",
       "SEX                                                                          \n",
       "1    14802.770104  163519.825034   1.839250  1.572090  36.519431  0.063257   \n",
       "2    15130.282078  170086.462014   1.862246  1.538593  34.806868 -0.069181   \n",
       "\n",
       "        PAY_2     PAY_3     PAY_4     PAY_5         ...             PAY_AMT2  \\\n",
       "SEX                                                 ...                        \n",
       "1   -0.029189 -0.068557 -0.133832 -0.189182         ...          5960.720138   \n",
       "2   -0.202407 -0.230289 -0.277661 -0.316751         ...          5895.200088   \n",
       "\n",
       "        PAY_AMT3     PAY_AMT4     PAY_AMT5     PAY_AMT6  Interest_Rate  \\\n",
       "SEX                                                                      \n",
       "1    5412.506057  4869.177995  4830.827052  5276.196753       1.669919   \n",
       "2    5103.057255  4797.786992  4778.752043  5175.665305       1.661385   \n",
       "\n",
       "     Employed_Persons        CPI  Consumer_Confidence  Default_Next_Month  \n",
       "SEX                                                                        \n",
       "1         9937.804509  92.838156            72.831090            0.241672  \n",
       "2         9937.833922  92.841597            72.827352            0.207763  \n",
       "\n",
       "[2 rows x 28 columns]"
      ]
     },
     "execution_count": 64,
     "metadata": {},
     "output_type": "execute_result"
    }
   ],
   "source": [
    "creditData.groupby('SEX').mean()"
   ]
  },
  {
   "cell_type": "code",
   "execution_count": 65,
   "metadata": {
    "collapsed": false,
    "deletable": true,
    "editable": true
   },
   "outputs": [
    {
     "data": {
      "text/html": [
       "<div>\n",
       "<style scoped>\n",
       "    .dataframe tbody tr th:only-of-type {\n",
       "        vertical-align: middle;\n",
       "    }\n",
       "\n",
       "    .dataframe tbody tr th {\n",
       "        vertical-align: top;\n",
       "    }\n",
       "\n",
       "    .dataframe thead th {\n",
       "        text-align: right;\n",
       "    }\n",
       "</style>\n",
       "<table border=\"1\" class=\"dataframe\">\n",
       "  <thead>\n",
       "    <tr style=\"text-align: right;\">\n",
       "      <th></th>\n",
       "      <th>ID</th>\n",
       "      <th>LIMIT_BAL</th>\n",
       "      <th>SEX</th>\n",
       "      <th>EDUCATION</th>\n",
       "      <th>AGE</th>\n",
       "      <th>PAY_0</th>\n",
       "      <th>PAY_2</th>\n",
       "      <th>PAY_3</th>\n",
       "      <th>PAY_4</th>\n",
       "      <th>PAY_5</th>\n",
       "      <th>...</th>\n",
       "      <th>PAY_AMT2</th>\n",
       "      <th>PAY_AMT3</th>\n",
       "      <th>PAY_AMT4</th>\n",
       "      <th>PAY_AMT5</th>\n",
       "      <th>PAY_AMT6</th>\n",
       "      <th>Interest_Rate</th>\n",
       "      <th>Employed_Persons</th>\n",
       "      <th>CPI</th>\n",
       "      <th>Consumer_Confidence</th>\n",
       "      <th>Default_Next_Month</th>\n",
       "    </tr>\n",
       "    <tr>\n",
       "      <th>MARRIAGE</th>\n",
       "      <th></th>\n",
       "      <th></th>\n",
       "      <th></th>\n",
       "      <th></th>\n",
       "      <th></th>\n",
       "      <th></th>\n",
       "      <th></th>\n",
       "      <th></th>\n",
       "      <th></th>\n",
       "      <th></th>\n",
       "      <th></th>\n",
       "      <th></th>\n",
       "      <th></th>\n",
       "      <th></th>\n",
       "      <th></th>\n",
       "      <th></th>\n",
       "      <th></th>\n",
       "      <th></th>\n",
       "      <th></th>\n",
       "      <th></th>\n",
       "      <th></th>\n",
       "    </tr>\n",
       "  </thead>\n",
       "  <tbody>\n",
       "    <tr>\n",
       "      <th>0</th>\n",
       "      <td>15755.796296</td>\n",
       "      <td>132962.962963</td>\n",
       "      <td>1.740741</td>\n",
       "      <td>2.740741</td>\n",
       "      <td>37.814815</td>\n",
       "      <td>-0.166667</td>\n",
       "      <td>-0.203704</td>\n",
       "      <td>-0.203704</td>\n",
       "      <td>-0.370370</td>\n",
       "      <td>-0.407407</td>\n",
       "      <td>...</td>\n",
       "      <td>2781.944444</td>\n",
       "      <td>4027.944444</td>\n",
       "      <td>2864.222222</td>\n",
       "      <td>2124.518519</td>\n",
       "      <td>2238.388889</td>\n",
       "      <td>1.685185</td>\n",
       "      <td>9932.037037</td>\n",
       "      <td>93.074074</td>\n",
       "      <td>72.925926</td>\n",
       "      <td>0.092593</td>\n",
       "    </tr>\n",
       "    <tr>\n",
       "      <th>1</th>\n",
       "      <td>15253.288821</td>\n",
       "      <td>182200.893184</td>\n",
       "      <td>1.620031</td>\n",
       "      <td>1.985138</td>\n",
       "      <td>40.016692</td>\n",
       "      <td>-0.036752</td>\n",
       "      <td>-0.163262</td>\n",
       "      <td>-0.206238</td>\n",
       "      <td>-0.259243</td>\n",
       "      <td>-0.308441</td>\n",
       "      <td>...</td>\n",
       "      <td>6205.714401</td>\n",
       "      <td>5328.491983</td>\n",
       "      <td>5075.922469</td>\n",
       "      <td>4836.070503</td>\n",
       "      <td>5331.664836</td>\n",
       "      <td>1.664104</td>\n",
       "      <td>9937.913098</td>\n",
       "      <td>92.844937</td>\n",
       "      <td>72.826708</td>\n",
       "      <td>0.234717</td>\n",
       "    </tr>\n",
       "    <tr>\n",
       "      <th>2</th>\n",
       "      <td>14807.277813</td>\n",
       "      <td>156413.660737</td>\n",
       "      <td>1.589514</td>\n",
       "      <td>1.729454</td>\n",
       "      <td>31.452706</td>\n",
       "      <td>-0.002819</td>\n",
       "      <td>-0.111000</td>\n",
       "      <td>-0.135680</td>\n",
       "      <td>-0.191118</td>\n",
       "      <td>-0.232085</td>\n",
       "      <td>...</td>\n",
       "      <td>5648.984465</td>\n",
       "      <td>5123.063518</td>\n",
       "      <td>4612.971185</td>\n",
       "      <td>4781.813581</td>\n",
       "      <td>5162.734340</td>\n",
       "      <td>1.665435</td>\n",
       "      <td>9937.774242</td>\n",
       "      <td>92.834252</td>\n",
       "      <td>72.829742</td>\n",
       "      <td>0.209283</td>\n",
       "    </tr>\n",
       "    <tr>\n",
       "      <th>3</th>\n",
       "      <td>13734.154799</td>\n",
       "      <td>98080.495356</td>\n",
       "      <td>1.594427</td>\n",
       "      <td>2.235294</td>\n",
       "      <td>42.798762</td>\n",
       "      <td>0.170279</td>\n",
       "      <td>0.000000</td>\n",
       "      <td>0.024768</td>\n",
       "      <td>-0.024768</td>\n",
       "      <td>-0.142415</td>\n",
       "      <td>...</td>\n",
       "      <td>7865.136223</td>\n",
       "      <td>6150.086687</td>\n",
       "      <td>5121.179567</td>\n",
       "      <td>4563.919505</td>\n",
       "      <td>3408.987616</td>\n",
       "      <td>1.656347</td>\n",
       "      <td>9937.321981</td>\n",
       "      <td>92.897833</td>\n",
       "      <td>72.857585</td>\n",
       "      <td>0.260062</td>\n",
       "    </tr>\n",
       "  </tbody>\n",
       "</table>\n",
       "<p>4 rows × 28 columns</p>\n",
       "</div>"
      ],
      "text/plain": [
       "                    ID      LIMIT_BAL       SEX  EDUCATION        AGE  \\\n",
       "MARRIAGE                                                                \n",
       "0         15755.796296  132962.962963  1.740741   2.740741  37.814815   \n",
       "1         15253.288821  182200.893184  1.620031   1.985138  40.016692   \n",
       "2         14807.277813  156413.660737  1.589514   1.729454  31.452706   \n",
       "3         13734.154799   98080.495356  1.594427   2.235294  42.798762   \n",
       "\n",
       "             PAY_0     PAY_2     PAY_3     PAY_4     PAY_5  \\\n",
       "MARRIAGE                                                     \n",
       "0        -0.166667 -0.203704 -0.203704 -0.370370 -0.407407   \n",
       "1        -0.036752 -0.163262 -0.206238 -0.259243 -0.308441   \n",
       "2        -0.002819 -0.111000 -0.135680 -0.191118 -0.232085   \n",
       "3         0.170279  0.000000  0.024768 -0.024768 -0.142415   \n",
       "\n",
       "                 ...             PAY_AMT2     PAY_AMT3     PAY_AMT4  \\\n",
       "MARRIAGE         ...                                                  \n",
       "0                ...          2781.944444  4027.944444  2864.222222   \n",
       "1                ...          6205.714401  5328.491983  5075.922469   \n",
       "2                ...          5648.984465  5123.063518  4612.971185   \n",
       "3                ...          7865.136223  6150.086687  5121.179567   \n",
       "\n",
       "             PAY_AMT5     PAY_AMT6  Interest_Rate  Employed_Persons  \\\n",
       "MARRIAGE                                                              \n",
       "0         2124.518519  2238.388889       1.685185       9932.037037   \n",
       "1         4836.070503  5331.664836       1.664104       9937.913098   \n",
       "2         4781.813581  5162.734340       1.665435       9937.774242   \n",
       "3         4563.919505  3408.987616       1.656347       9937.321981   \n",
       "\n",
       "                CPI  Consumer_Confidence  Default_Next_Month  \n",
       "MARRIAGE                                                      \n",
       "0         93.074074            72.925926            0.092593  \n",
       "1         92.844937            72.826708            0.234717  \n",
       "2         92.834252            72.829742            0.209283  \n",
       "3         92.897833            72.857585            0.260062  \n",
       "\n",
       "[4 rows x 28 columns]"
      ]
     },
     "execution_count": 65,
     "metadata": {},
     "output_type": "execute_result"
    }
   ],
   "source": [
    "creditData.groupby('MARRIAGE').mean()"
   ]
  },
  {
   "cell_type": "code",
   "execution_count": 66,
   "metadata": {
    "collapsed": false,
    "deletable": true,
    "editable": true
   },
   "outputs": [
    {
     "data": {
      "text/html": [
       "<div>\n",
       "<style scoped>\n",
       "    .dataframe tbody tr th:only-of-type {\n",
       "        vertical-align: middle;\n",
       "    }\n",
       "\n",
       "    .dataframe tbody tr th {\n",
       "        vertical-align: top;\n",
       "    }\n",
       "\n",
       "    .dataframe thead th {\n",
       "        text-align: right;\n",
       "    }\n",
       "</style>\n",
       "<table border=\"1\" class=\"dataframe\">\n",
       "  <thead>\n",
       "    <tr style=\"text-align: right;\">\n",
       "      <th></th>\n",
       "      <th>ID</th>\n",
       "      <th>LIMIT_BAL</th>\n",
       "      <th>SEX</th>\n",
       "      <th>EDUCATION</th>\n",
       "      <th>MARRIAGE</th>\n",
       "      <th>AGE</th>\n",
       "      <th>PAY_0</th>\n",
       "      <th>PAY_2</th>\n",
       "      <th>PAY_3</th>\n",
       "      <th>PAY_4</th>\n",
       "      <th>...</th>\n",
       "      <th>PAY_AMT1</th>\n",
       "      <th>PAY_AMT2</th>\n",
       "      <th>PAY_AMT3</th>\n",
       "      <th>PAY_AMT4</th>\n",
       "      <th>PAY_AMT5</th>\n",
       "      <th>PAY_AMT6</th>\n",
       "      <th>Employed_Persons</th>\n",
       "      <th>CPI</th>\n",
       "      <th>Consumer_Confidence</th>\n",
       "      <th>Default_Next_Month</th>\n",
       "    </tr>\n",
       "    <tr>\n",
       "      <th>Interest_Rate</th>\n",
       "      <th></th>\n",
       "      <th></th>\n",
       "      <th></th>\n",
       "      <th></th>\n",
       "      <th></th>\n",
       "      <th></th>\n",
       "      <th></th>\n",
       "      <th></th>\n",
       "      <th></th>\n",
       "      <th></th>\n",
       "      <th></th>\n",
       "      <th></th>\n",
       "      <th></th>\n",
       "      <th></th>\n",
       "      <th></th>\n",
       "      <th></th>\n",
       "      <th></th>\n",
       "      <th></th>\n",
       "      <th></th>\n",
       "      <th></th>\n",
       "      <th></th>\n",
       "    </tr>\n",
       "  </thead>\n",
       "  <tbody>\n",
       "    <tr>\n",
       "      <th>1</th>\n",
       "      <td>14948.814060</td>\n",
       "      <td>166711.345332</td>\n",
       "      <td>1.609824</td>\n",
       "      <td>1.862384</td>\n",
       "      <td>1.551457</td>\n",
       "      <td>35.410262</td>\n",
       "      <td>-0.002585</td>\n",
       "      <td>-0.138908</td>\n",
       "      <td>-0.158497</td>\n",
       "      <td>-0.204733</td>\n",
       "      <td>...</td>\n",
       "      <td>5701.097942</td>\n",
       "      <td>5868.929701</td>\n",
       "      <td>5400.416426</td>\n",
       "      <td>4942.199065</td>\n",
       "      <td>4789.886050</td>\n",
       "      <td>5136.181565</td>\n",
       "      <td>9937.858009</td>\n",
       "      <td>92.839117</td>\n",
       "      <td>72.828677</td>\n",
       "      <td>0.221637</td>\n",
       "    </tr>\n",
       "    <tr>\n",
       "      <th>2</th>\n",
       "      <td>15026.564559</td>\n",
       "      <td>167874.125257</td>\n",
       "      <td>1.600662</td>\n",
       "      <td>1.848468</td>\n",
       "      <td>1.552073</td>\n",
       "      <td>35.523442</td>\n",
       "      <td>-0.023818</td>\n",
       "      <td>-0.131174</td>\n",
       "      <td>-0.170085</td>\n",
       "      <td>-0.228702</td>\n",
       "      <td>...</td>\n",
       "      <td>5644.660934</td>\n",
       "      <td>5947.504337</td>\n",
       "      <td>5137.564910</td>\n",
       "      <td>4767.517926</td>\n",
       "      <td>4804.179161</td>\n",
       "      <td>5255.503134</td>\n",
       "      <td>9937.804242</td>\n",
       "      <td>92.840796</td>\n",
       "      <td>72.828912</td>\n",
       "      <td>0.220980</td>\n",
       "    </tr>\n",
       "  </tbody>\n",
       "</table>\n",
       "<p>2 rows × 28 columns</p>\n",
       "</div>"
      ],
      "text/plain": [
       "                         ID      LIMIT_BAL       SEX  EDUCATION  MARRIAGE  \\\n",
       "Interest_Rate                                                               \n",
       "1              14948.814060  166711.345332  1.609824   1.862384  1.551457   \n",
       "2              15026.564559  167874.125257  1.600662   1.848468  1.552073   \n",
       "\n",
       "                     AGE     PAY_0     PAY_2     PAY_3     PAY_4  \\\n",
       "Interest_Rate                                                      \n",
       "1              35.410262 -0.002585 -0.138908 -0.158497 -0.204733   \n",
       "2              35.523442 -0.023818 -0.131174 -0.170085 -0.228702   \n",
       "\n",
       "                      ...             PAY_AMT1     PAY_AMT2     PAY_AMT3  \\\n",
       "Interest_Rate         ...                                                  \n",
       "1                     ...          5701.097942  5868.929701  5400.416426   \n",
       "2                     ...          5644.660934  5947.504337  5137.564910   \n",
       "\n",
       "                  PAY_AMT4     PAY_AMT5     PAY_AMT6  Employed_Persons  \\\n",
       "Interest_Rate                                                            \n",
       "1              4942.199065  4789.886050  5136.181565       9937.858009   \n",
       "2              4767.517926  4804.179161  5255.503134       9937.804242   \n",
       "\n",
       "                     CPI  Consumer_Confidence  Default_Next_Month  \n",
       "Interest_Rate                                                      \n",
       "1              92.839117            72.828677            0.221637  \n",
       "2              92.840796            72.828912            0.220980  \n",
       "\n",
       "[2 rows x 28 columns]"
      ]
     },
     "execution_count": 66,
     "metadata": {},
     "output_type": "execute_result"
    }
   ],
   "source": [
    "creditData.groupby('Interest_Rate').mean()"
   ]
  },
  {
   "cell_type": "code",
   "execution_count": 67,
   "metadata": {
    "collapsed": false,
    "deletable": true,
    "editable": true,
    "scrolled": true
   },
   "outputs": [
    {
     "data": {
      "text/html": [
       "<div>\n",
       "<style scoped>\n",
       "    .dataframe tbody tr th:only-of-type {\n",
       "        vertical-align: middle;\n",
       "    }\n",
       "\n",
       "    .dataframe tbody tr th {\n",
       "        vertical-align: top;\n",
       "    }\n",
       "\n",
       "    .dataframe thead th {\n",
       "        text-align: right;\n",
       "    }\n",
       "</style>\n",
       "<table border=\"1\" class=\"dataframe\">\n",
       "  <thead>\n",
       "    <tr style=\"text-align: right;\">\n",
       "      <th></th>\n",
       "      <th>ID</th>\n",
       "      <th>LIMIT_BAL</th>\n",
       "      <th>SEX</th>\n",
       "      <th>EDUCATION</th>\n",
       "      <th>MARRIAGE</th>\n",
       "      <th>AGE</th>\n",
       "      <th>PAY_0</th>\n",
       "      <th>PAY_2</th>\n",
       "      <th>PAY_3</th>\n",
       "      <th>PAY_4</th>\n",
       "      <th>...</th>\n",
       "      <th>PAY_AMT1</th>\n",
       "      <th>PAY_AMT2</th>\n",
       "      <th>PAY_AMT3</th>\n",
       "      <th>PAY_AMT4</th>\n",
       "      <th>PAY_AMT5</th>\n",
       "      <th>PAY_AMT6</th>\n",
       "      <th>Interest_Rate</th>\n",
       "      <th>CPI</th>\n",
       "      <th>Consumer_Confidence</th>\n",
       "      <th>Default_Next_Month</th>\n",
       "    </tr>\n",
       "    <tr>\n",
       "      <th>Employed_Persons</th>\n",
       "      <th></th>\n",
       "      <th></th>\n",
       "      <th></th>\n",
       "      <th></th>\n",
       "      <th></th>\n",
       "      <th></th>\n",
       "      <th></th>\n",
       "      <th></th>\n",
       "      <th></th>\n",
       "      <th></th>\n",
       "      <th></th>\n",
       "      <th></th>\n",
       "      <th></th>\n",
       "      <th></th>\n",
       "      <th></th>\n",
       "      <th></th>\n",
       "      <th></th>\n",
       "      <th></th>\n",
       "      <th></th>\n",
       "      <th></th>\n",
       "      <th></th>\n",
       "    </tr>\n",
       "  </thead>\n",
       "  <tbody>\n",
       "    <tr>\n",
       "      <th>9916</th>\n",
       "      <td>14970.425719</td>\n",
       "      <td>167009.984026</td>\n",
       "      <td>1.601038</td>\n",
       "      <td>1.866414</td>\n",
       "      <td>1.563099</td>\n",
       "      <td>35.507788</td>\n",
       "      <td>-0.007188</td>\n",
       "      <td>-0.125399</td>\n",
       "      <td>-0.163339</td>\n",
       "      <td>-0.217053</td>\n",
       "      <td>...</td>\n",
       "      <td>5660.252596</td>\n",
       "      <td>5763.262580</td>\n",
       "      <td>4963.926917</td>\n",
       "      <td>4868.639377</td>\n",
       "      <td>4635.562700</td>\n",
       "      <td>4884.821685</td>\n",
       "      <td>1.657149</td>\n",
       "      <td>92.852037</td>\n",
       "      <td>72.844249</td>\n",
       "      <td>0.220647</td>\n",
       "    </tr>\n",
       "    <tr>\n",
       "      <th>9929</th>\n",
       "      <td>15055.923617</td>\n",
       "      <td>170135.525261</td>\n",
       "      <td>1.599840</td>\n",
       "      <td>1.855654</td>\n",
       "      <td>1.555934</td>\n",
       "      <td>35.388933</td>\n",
       "      <td>0.007017</td>\n",
       "      <td>-0.120890</td>\n",
       "      <td>-0.155573</td>\n",
       "      <td>-0.212711</td>\n",
       "      <td>...</td>\n",
       "      <td>5629.869086</td>\n",
       "      <td>5955.132518</td>\n",
       "      <td>5614.270449</td>\n",
       "      <td>4720.310746</td>\n",
       "      <td>4881.887731</td>\n",
       "      <td>5695.076784</td>\n",
       "      <td>1.674018</td>\n",
       "      <td>92.854651</td>\n",
       "      <td>72.822574</td>\n",
       "      <td>0.224338</td>\n",
       "    </tr>\n",
       "    <tr>\n",
       "      <th>9931</th>\n",
       "      <td>15136.239069</td>\n",
       "      <td>168334.873646</td>\n",
       "      <td>1.604693</td>\n",
       "      <td>1.849378</td>\n",
       "      <td>1.543522</td>\n",
       "      <td>35.626153</td>\n",
       "      <td>-0.022864</td>\n",
       "      <td>-0.129964</td>\n",
       "      <td>-0.180505</td>\n",
       "      <td>-0.225030</td>\n",
       "      <td>...</td>\n",
       "      <td>5808.602888</td>\n",
       "      <td>6219.561171</td>\n",
       "      <td>5374.124348</td>\n",
       "      <td>5026.193943</td>\n",
       "      <td>5016.321300</td>\n",
       "      <td>5377.512034</td>\n",
       "      <td>1.665263</td>\n",
       "      <td>92.802046</td>\n",
       "      <td>72.829924</td>\n",
       "      <td>0.228239</td>\n",
       "    </tr>\n",
       "    <tr>\n",
       "      <th>9933</th>\n",
       "      <td>15044.767960</td>\n",
       "      <td>166083.582090</td>\n",
       "      <td>1.607960</td>\n",
       "      <td>1.847363</td>\n",
       "      <td>1.547463</td>\n",
       "      <td>35.379900</td>\n",
       "      <td>-0.020100</td>\n",
       "      <td>-0.137313</td>\n",
       "      <td>-0.169552</td>\n",
       "      <td>-0.218507</td>\n",
       "      <td>...</td>\n",
       "      <td>5339.030647</td>\n",
       "      <td>5873.161592</td>\n",
       "      <td>5382.356617</td>\n",
       "      <td>4705.323781</td>\n",
       "      <td>4719.771343</td>\n",
       "      <td>5142.106866</td>\n",
       "      <td>1.673234</td>\n",
       "      <td>92.835025</td>\n",
       "      <td>72.824080</td>\n",
       "      <td>0.219303</td>\n",
       "    </tr>\n",
       "    <tr>\n",
       "      <th>9949</th>\n",
       "      <td>14995.094181</td>\n",
       "      <td>168646.270746</td>\n",
       "      <td>1.607079</td>\n",
       "      <td>1.844431</td>\n",
       "      <td>1.545491</td>\n",
       "      <td>35.409518</td>\n",
       "      <td>-0.046791</td>\n",
       "      <td>-0.154369</td>\n",
       "      <td>-0.169366</td>\n",
       "      <td>-0.240352</td>\n",
       "      <td>...</td>\n",
       "      <td>6061.016197</td>\n",
       "      <td>6252.398520</td>\n",
       "      <td>5276.448310</td>\n",
       "      <td>4985.587283</td>\n",
       "      <td>4745.282144</td>\n",
       "      <td>5248.419516</td>\n",
       "      <td>1.653869</td>\n",
       "      <td>92.863827</td>\n",
       "      <td>72.829234</td>\n",
       "      <td>0.214957</td>\n",
       "    </tr>\n",
       "    <tr>\n",
       "      <th>9969</th>\n",
       "      <td>14800.570513</td>\n",
       "      <td>164707.532051</td>\n",
       "      <td>1.601763</td>\n",
       "      <td>1.855569</td>\n",
       "      <td>1.555689</td>\n",
       "      <td>35.601562</td>\n",
       "      <td>-0.010216</td>\n",
       "      <td>-0.134615</td>\n",
       "      <td>-0.158854</td>\n",
       "      <td>-0.210337</td>\n",
       "      <td>...</td>\n",
       "      <td>5484.298478</td>\n",
       "      <td>5464.076723</td>\n",
       "      <td>4743.163862</td>\n",
       "      <td>4650.936098</td>\n",
       "      <td>4798.976362</td>\n",
       "      <td>4947.143229</td>\n",
       "      <td>1.665064</td>\n",
       "      <td>92.833734</td>\n",
       "      <td>72.822917</td>\n",
       "      <td>0.219752</td>\n",
       "    </tr>\n",
       "  </tbody>\n",
       "</table>\n",
       "<p>6 rows × 28 columns</p>\n",
       "</div>"
      ],
      "text/plain": [
       "                            ID      LIMIT_BAL       SEX  EDUCATION  MARRIAGE  \\\n",
       "Employed_Persons                                                               \n",
       "9916              14970.425719  167009.984026  1.601038   1.866414  1.563099   \n",
       "9929              15055.923617  170135.525261  1.599840   1.855654  1.555934   \n",
       "9931              15136.239069  168334.873646  1.604693   1.849378  1.543522   \n",
       "9933              15044.767960  166083.582090  1.607960   1.847363  1.547463   \n",
       "9949              14995.094181  168646.270746  1.607079   1.844431  1.545491   \n",
       "9969              14800.570513  164707.532051  1.601763   1.855569  1.555689   \n",
       "\n",
       "                        AGE     PAY_0     PAY_2     PAY_3     PAY_4  \\\n",
       "Employed_Persons                                                      \n",
       "9916              35.507788 -0.007188 -0.125399 -0.163339 -0.217053   \n",
       "9929              35.388933  0.007017 -0.120890 -0.155573 -0.212711   \n",
       "9931              35.626153 -0.022864 -0.129964 -0.180505 -0.225030   \n",
       "9933              35.379900 -0.020100 -0.137313 -0.169552 -0.218507   \n",
       "9949              35.409518 -0.046791 -0.154369 -0.169366 -0.240352   \n",
       "9969              35.601562 -0.010216 -0.134615 -0.158854 -0.210337   \n",
       "\n",
       "                         ...             PAY_AMT1     PAY_AMT2     PAY_AMT3  \\\n",
       "Employed_Persons         ...                                                  \n",
       "9916                     ...          5660.252596  5763.262580  4963.926917   \n",
       "9929                     ...          5629.869086  5955.132518  5614.270449   \n",
       "9931                     ...          5808.602888  6219.561171  5374.124348   \n",
       "9933                     ...          5339.030647  5873.161592  5382.356617   \n",
       "9949                     ...          6061.016197  6252.398520  5276.448310   \n",
       "9969                     ...          5484.298478  5464.076723  4743.163862   \n",
       "\n",
       "                     PAY_AMT4     PAY_AMT5     PAY_AMT6  Interest_Rate  \\\n",
       "Employed_Persons                                                         \n",
       "9916              4868.639377  4635.562700  4884.821685       1.657149   \n",
       "9929              4720.310746  4881.887731  5695.076784       1.674018   \n",
       "9931              5026.193943  5016.321300  5377.512034       1.665263   \n",
       "9933              4705.323781  4719.771343  5142.106866       1.673234   \n",
       "9949              4985.587283  4745.282144  5248.419516       1.653869   \n",
       "9969              4650.936098  4798.976362  4947.143229       1.665064   \n",
       "\n",
       "                        CPI  Consumer_Confidence  Default_Next_Month  \n",
       "Employed_Persons                                                      \n",
       "9916              92.852037            72.844249            0.220647  \n",
       "9929              92.854651            72.822574            0.224338  \n",
       "9931              92.802046            72.829924            0.228239  \n",
       "9933              92.835025            72.824080            0.219303  \n",
       "9949              92.863827            72.829234            0.214957  \n",
       "9969              92.833734            72.822917            0.219752  \n",
       "\n",
       "[6 rows x 28 columns]"
      ]
     },
     "execution_count": 67,
     "metadata": {},
     "output_type": "execute_result"
    }
   ],
   "source": [
    "creditData.groupby('Employed_Persons').mean()"
   ]
  },
  {
   "cell_type": "code",
   "execution_count": 68,
   "metadata": {
    "collapsed": false,
    "deletable": true,
    "editable": true
   },
   "outputs": [
    {
     "data": {
      "text/html": [
       "<div>\n",
       "<style scoped>\n",
       "    .dataframe tbody tr th:only-of-type {\n",
       "        vertical-align: middle;\n",
       "    }\n",
       "\n",
       "    .dataframe tbody tr th {\n",
       "        vertical-align: top;\n",
       "    }\n",
       "\n",
       "    .dataframe thead th {\n",
       "        text-align: right;\n",
       "    }\n",
       "</style>\n",
       "<table border=\"1\" class=\"dataframe\">\n",
       "  <thead>\n",
       "    <tr style=\"text-align: right;\">\n",
       "      <th></th>\n",
       "      <th>ID</th>\n",
       "      <th>LIMIT_BAL</th>\n",
       "      <th>SEX</th>\n",
       "      <th>EDUCATION</th>\n",
       "      <th>MARRIAGE</th>\n",
       "      <th>AGE</th>\n",
       "      <th>PAY_0</th>\n",
       "      <th>PAY_2</th>\n",
       "      <th>PAY_3</th>\n",
       "      <th>PAY_4</th>\n",
       "      <th>...</th>\n",
       "      <th>PAY_AMT1</th>\n",
       "      <th>PAY_AMT2</th>\n",
       "      <th>PAY_AMT3</th>\n",
       "      <th>PAY_AMT4</th>\n",
       "      <th>PAY_AMT5</th>\n",
       "      <th>PAY_AMT6</th>\n",
       "      <th>Interest_Rate</th>\n",
       "      <th>Employed_Persons</th>\n",
       "      <th>Consumer_Confidence</th>\n",
       "      <th>Default_Next_Month</th>\n",
       "    </tr>\n",
       "    <tr>\n",
       "      <th>CPI</th>\n",
       "      <th></th>\n",
       "      <th></th>\n",
       "      <th></th>\n",
       "      <th></th>\n",
       "      <th></th>\n",
       "      <th></th>\n",
       "      <th></th>\n",
       "      <th></th>\n",
       "      <th></th>\n",
       "      <th></th>\n",
       "      <th></th>\n",
       "      <th></th>\n",
       "      <th></th>\n",
       "      <th></th>\n",
       "      <th></th>\n",
       "      <th></th>\n",
       "      <th></th>\n",
       "      <th></th>\n",
       "      <th></th>\n",
       "      <th></th>\n",
       "      <th></th>\n",
       "    </tr>\n",
       "  </thead>\n",
       "  <tbody>\n",
       "    <tr>\n",
       "      <th>92</th>\n",
       "      <td>14983.572515</td>\n",
       "      <td>167138.569217</td>\n",
       "      <td>1.601992</td>\n",
       "      <td>1.851403</td>\n",
       "      <td>1.556969</td>\n",
       "      <td>35.383606</td>\n",
       "      <td>-0.008816</td>\n",
       "      <td>-0.130561</td>\n",
       "      <td>-0.170671</td>\n",
       "      <td>-0.214887</td>\n",
       "      <td>...</td>\n",
       "      <td>5624.209233</td>\n",
       "      <td>5899.703143</td>\n",
       "      <td>5171.821388</td>\n",
       "      <td>4884.484420</td>\n",
       "      <td>4688.262602</td>\n",
       "      <td>5036.944680</td>\n",
       "      <td>1.662696</td>\n",
       "      <td>9937.743522</td>\n",
       "      <td>72.833030</td>\n",
       "      <td>0.220540</td>\n",
       "    </tr>\n",
       "    <tr>\n",
       "      <th>93</th>\n",
       "      <td>14980.504631</td>\n",
       "      <td>170191.133005</td>\n",
       "      <td>1.609064</td>\n",
       "      <td>1.847291</td>\n",
       "      <td>1.535961</td>\n",
       "      <td>35.745616</td>\n",
       "      <td>-0.035665</td>\n",
       "      <td>-0.155862</td>\n",
       "      <td>-0.158030</td>\n",
       "      <td>-0.224236</td>\n",
       "      <td>...</td>\n",
       "      <td>5780.472906</td>\n",
       "      <td>5847.830739</td>\n",
       "      <td>5275.650640</td>\n",
       "      <td>4857.413202</td>\n",
       "      <td>5039.158227</td>\n",
       "      <td>5506.630542</td>\n",
       "      <td>1.674680</td>\n",
       "      <td>9938.321182</td>\n",
       "      <td>72.839212</td>\n",
       "      <td>0.226207</td>\n",
       "    </tr>\n",
       "    <tr>\n",
       "      <th>94</th>\n",
       "      <td>15035.568746</td>\n",
       "      <td>166630.009934</td>\n",
       "      <td>1.603616</td>\n",
       "      <td>1.858633</td>\n",
       "      <td>1.552354</td>\n",
       "      <td>35.504769</td>\n",
       "      <td>-0.018776</td>\n",
       "      <td>-0.127359</td>\n",
       "      <td>-0.163719</td>\n",
       "      <td>-0.227399</td>\n",
       "      <td>...</td>\n",
       "      <td>5662.764753</td>\n",
       "      <td>5989.814723</td>\n",
       "      <td>5279.994437</td>\n",
       "      <td>4724.059209</td>\n",
       "      <td>4842.539936</td>\n",
       "      <td>5332.303398</td>\n",
       "      <td>1.662825</td>\n",
       "      <td>9937.686966</td>\n",
       "      <td>72.817405</td>\n",
       "      <td>0.219650</td>\n",
       "    </tr>\n",
       "  </tbody>\n",
       "</table>\n",
       "<p>3 rows × 28 columns</p>\n",
       "</div>"
      ],
      "text/plain": [
       "               ID      LIMIT_BAL       SEX  EDUCATION  MARRIAGE        AGE  \\\n",
       "CPI                                                                          \n",
       "92   14983.572515  167138.569217  1.601992   1.851403  1.556969  35.383606   \n",
       "93   14980.504631  170191.133005  1.609064   1.847291  1.535961  35.745616   \n",
       "94   15035.568746  166630.009934  1.603616   1.858633  1.552354  35.504769   \n",
       "\n",
       "        PAY_0     PAY_2     PAY_3     PAY_4         ...             PAY_AMT1  \\\n",
       "CPI                                                 ...                        \n",
       "92  -0.008816 -0.130561 -0.170671 -0.214887         ...          5624.209233   \n",
       "93  -0.035665 -0.155862 -0.158030 -0.224236         ...          5780.472906   \n",
       "94  -0.018776 -0.127359 -0.163719 -0.227399         ...          5662.764753   \n",
       "\n",
       "        PAY_AMT2     PAY_AMT3     PAY_AMT4     PAY_AMT5     PAY_AMT6  \\\n",
       "CPI                                                                    \n",
       "92   5899.703143  5171.821388  4884.484420  4688.262602  5036.944680   \n",
       "93   5847.830739  5275.650640  4857.413202  5039.158227  5506.630542   \n",
       "94   5989.814723  5279.994437  4724.059209  4842.539936  5332.303398   \n",
       "\n",
       "     Interest_Rate  Employed_Persons  Consumer_Confidence  Default_Next_Month  \n",
       "CPI                                                                            \n",
       "92        1.662696       9937.743522            72.833030            0.220540  \n",
       "93        1.674680       9938.321182            72.839212            0.226207  \n",
       "94        1.662825       9937.686966            72.817405            0.219650  \n",
       "\n",
       "[3 rows x 28 columns]"
      ]
     },
     "execution_count": 68,
     "metadata": {},
     "output_type": "execute_result"
    }
   ],
   "source": [
    "creditData.groupby('CPI').mean()"
   ]
  },
  {
   "cell_type": "code",
   "execution_count": 69,
   "metadata": {
    "collapsed": false,
    "deletable": true,
    "editable": true
   },
   "outputs": [
    {
     "data": {
      "text/html": [
       "<div>\n",
       "<style scoped>\n",
       "    .dataframe tbody tr th:only-of-type {\n",
       "        vertical-align: middle;\n",
       "    }\n",
       "\n",
       "    .dataframe tbody tr th {\n",
       "        vertical-align: top;\n",
       "    }\n",
       "\n",
       "    .dataframe thead th {\n",
       "        text-align: right;\n",
       "    }\n",
       "</style>\n",
       "<table border=\"1\" class=\"dataframe\">\n",
       "  <thead>\n",
       "    <tr style=\"text-align: right;\">\n",
       "      <th></th>\n",
       "      <th>ID</th>\n",
       "      <th>LIMIT_BAL</th>\n",
       "      <th>SEX</th>\n",
       "      <th>EDUCATION</th>\n",
       "      <th>MARRIAGE</th>\n",
       "      <th>AGE</th>\n",
       "      <th>PAY_0</th>\n",
       "      <th>PAY_2</th>\n",
       "      <th>PAY_3</th>\n",
       "      <th>PAY_4</th>\n",
       "      <th>...</th>\n",
       "      <th>PAY_AMT1</th>\n",
       "      <th>PAY_AMT2</th>\n",
       "      <th>PAY_AMT3</th>\n",
       "      <th>PAY_AMT4</th>\n",
       "      <th>PAY_AMT5</th>\n",
       "      <th>PAY_AMT6</th>\n",
       "      <th>Interest_Rate</th>\n",
       "      <th>Employed_Persons</th>\n",
       "      <th>CPI</th>\n",
       "      <th>Default_Next_Month</th>\n",
       "    </tr>\n",
       "    <tr>\n",
       "      <th>Consumer_Confidence</th>\n",
       "      <th></th>\n",
       "      <th></th>\n",
       "      <th></th>\n",
       "      <th></th>\n",
       "      <th></th>\n",
       "      <th></th>\n",
       "      <th></th>\n",
       "      <th></th>\n",
       "      <th></th>\n",
       "      <th></th>\n",
       "      <th></th>\n",
       "      <th></th>\n",
       "      <th></th>\n",
       "      <th></th>\n",
       "      <th></th>\n",
       "      <th></th>\n",
       "      <th></th>\n",
       "      <th></th>\n",
       "      <th></th>\n",
       "      <th></th>\n",
       "      <th></th>\n",
       "    </tr>\n",
       "  </thead>\n",
       "  <tbody>\n",
       "    <tr>\n",
       "      <th>71</th>\n",
       "      <td>14960.831387</td>\n",
       "      <td>166973.615674</td>\n",
       "      <td>1.605185</td>\n",
       "      <td>1.844251</td>\n",
       "      <td>1.550564</td>\n",
       "      <td>35.464081</td>\n",
       "      <td>-0.009895</td>\n",
       "      <td>-0.128043</td>\n",
       "      <td>-0.165446</td>\n",
       "      <td>-0.211162</td>\n",
       "      <td>...</td>\n",
       "      <td>5589.426084</td>\n",
       "      <td>5922.552741</td>\n",
       "      <td>5185.186028</td>\n",
       "      <td>4601.013655</td>\n",
       "      <td>4629.626163</td>\n",
       "      <td>5449.267366</td>\n",
       "      <td>1.665545</td>\n",
       "      <td>9937.832971</td>\n",
       "      <td>92.849990</td>\n",
       "      <td>0.222442</td>\n",
       "    </tr>\n",
       "    <tr>\n",
       "      <th>73</th>\n",
       "      <td>15025.716310</td>\n",
       "      <td>168109.331197</td>\n",
       "      <td>1.603975</td>\n",
       "      <td>1.855977</td>\n",
       "      <td>1.551462</td>\n",
       "      <td>35.522928</td>\n",
       "      <td>-0.021476</td>\n",
       "      <td>-0.134561</td>\n",
       "      <td>-0.166650</td>\n",
       "      <td>-0.222517</td>\n",
       "      <td>...</td>\n",
       "      <td>5761.396426</td>\n",
       "      <td>5909.537645</td>\n",
       "      <td>5185.885362</td>\n",
       "      <td>4946.046105</td>\n",
       "      <td>4780.730877</td>\n",
       "      <td>5293.314077</td>\n",
       "      <td>1.664097</td>\n",
       "      <td>9937.925761</td>\n",
       "      <td>92.841710</td>\n",
       "      <td>0.221266</td>\n",
       "    </tr>\n",
       "    <tr>\n",
       "      <th>74</th>\n",
       "      <td>14939.491048</td>\n",
       "      <td>165491.852746</td>\n",
       "      <td>1.601287</td>\n",
       "      <td>1.850734</td>\n",
       "      <td>1.554818</td>\n",
       "      <td>35.356870</td>\n",
       "      <td>-0.004426</td>\n",
       "      <td>-0.136391</td>\n",
       "      <td>-0.165158</td>\n",
       "      <td>-0.222893</td>\n",
       "      <td>...</td>\n",
       "      <td>5345.884128</td>\n",
       "      <td>5966.469926</td>\n",
       "      <td>5426.766043</td>\n",
       "      <td>4572.755381</td>\n",
       "      <td>5046.921746</td>\n",
       "      <td>4665.195534</td>\n",
       "      <td>1.666667</td>\n",
       "      <td>9937.395494</td>\n",
       "      <td>92.824381</td>\n",
       "      <td>0.219674</td>\n",
       "    </tr>\n",
       "  </tbody>\n",
       "</table>\n",
       "<p>3 rows × 28 columns</p>\n",
       "</div>"
      ],
      "text/plain": [
       "                               ID      LIMIT_BAL       SEX  EDUCATION  \\\n",
       "Consumer_Confidence                                                     \n",
       "71                   14960.831387  166973.615674  1.605185   1.844251   \n",
       "73                   15025.716310  168109.331197  1.603975   1.855977   \n",
       "74                   14939.491048  165491.852746  1.601287   1.850734   \n",
       "\n",
       "                     MARRIAGE        AGE     PAY_0     PAY_2     PAY_3  \\\n",
       "Consumer_Confidence                                                      \n",
       "71                   1.550564  35.464081 -0.009895 -0.128043 -0.165446   \n",
       "73                   1.551462  35.522928 -0.021476 -0.134561 -0.166650   \n",
       "74                   1.554818  35.356870 -0.004426 -0.136391 -0.165158   \n",
       "\n",
       "                        PAY_4         ...             PAY_AMT1     PAY_AMT2  \\\n",
       "Consumer_Confidence                   ...                                     \n",
       "71                  -0.211162         ...          5589.426084  5922.552741   \n",
       "73                  -0.222517         ...          5761.396426  5909.537645   \n",
       "74                  -0.222893         ...          5345.884128  5966.469926   \n",
       "\n",
       "                        PAY_AMT3     PAY_AMT4     PAY_AMT5     PAY_AMT6  \\\n",
       "Consumer_Confidence                                                       \n",
       "71                   5185.186028  4601.013655  4629.626163  5449.267366   \n",
       "73                   5185.885362  4946.046105  4780.730877  5293.314077   \n",
       "74                   5426.766043  4572.755381  5046.921746  4665.195534   \n",
       "\n",
       "                     Interest_Rate  Employed_Persons        CPI  \\\n",
       "Consumer_Confidence                                               \n",
       "71                        1.665545       9937.832971  92.849990   \n",
       "73                        1.664097       9937.925761  92.841710   \n",
       "74                        1.666667       9937.395494  92.824381   \n",
       "\n",
       "                     Default_Next_Month  \n",
       "Consumer_Confidence                      \n",
       "71                             0.222442  \n",
       "73                             0.221266  \n",
       "74                             0.219674  \n",
       "\n",
       "[3 rows x 28 columns]"
      ]
     },
     "execution_count": 69,
     "metadata": {},
     "output_type": "execute_result"
    }
   ],
   "source": [
    "creditData.groupby('Consumer_Confidence').mean()"
   ]
  },
  {
   "cell_type": "code",
   "execution_count": 70,
   "metadata": {
    "collapsed": true,
    "deletable": true,
    "editable": true
   },
   "outputs": [],
   "source": [
    "creditData['x_bin']=pd.cut(x=creditData.AGE, bins=[20,30,40,50,60,70]) "
   ]
  },
  {
   "cell_type": "code",
   "execution_count": 71,
   "metadata": {
    "collapsed": false,
    "deletable": true,
    "editable": true
   },
   "outputs": [
    {
     "data": {
      "text/plain": [
       "<matplotlib.text.Text at 0x1c265b2160>"
      ]
     },
     "execution_count": 71,
     "metadata": {},
     "output_type": "execute_result"
    },
    {
     "data": {
      "image/png": "[encoded data removed]",
      "text/plain": [
       "<matplotlib.figure.Figure at 0x1c279f0208>"
      ]
     },
     "metadata": {},
     "output_type": "display_data"
    }
   ],
   "source": [
    "%matplotlib inline\n",
    "#bar chart of age grouped by default\n",
    "pd.crosstab(creditData.x_bin,default_next_month).plot(kind='bar')\n",
    "plt.title('Age Distribution by  Credit Default Status')\n",
    "plt.xlabel('Age')\n",
    "plt.ylabel('Frequency')"
   ]
  },
  {
   "cell_type": "code",
   "execution_count": 72,
   "metadata": {
    "collapsed": false,
    "deletable": true,
    "editable": true
   },
   "outputs": [],
   "source": [
    "#Separate the dataset into dependent and independent variables\n",
    "X=creditData.drop('Default_Next_Month',axis=1)\n",
    "X=X.drop('ID',axis=1)\n",
    "X=X.drop('x_bin',axis=1) \n",
    "y=creditData['Default_Next_Month']\n",
    "\n",
    "#then seperate it into training set, validation set and test set\n",
    "X_train,X_test,y_train,y_test = train_test_split(X,y, test_size=0.15)\n",
    " "
   ]
  },
  {
   "cell_type": "code",
   "execution_count": 74,
   "metadata": {
    "collapsed": false,
    "deletable": true,
    "editable": true
   },
   "outputs": [
    {
     "data": {
      "text/plain": [
       "LogisticRegression(C=1.0, class_weight=None, dual=False, fit_intercept=True,\n",
       "          intercept_scaling=1, max_iter=100, multi_class='ovr', n_jobs=1,\n",
       "          penalty='l2', random_state=None, solver='liblinear', tol=0.0001,\n",
       "          verbose=0, warm_start=False)"
      ]
     },
     "execution_count": 74,
     "metadata": {},
     "output_type": "execute_result"
    }
   ],
   "source": [
    "#######MODEL ONE: LOGISTIC REGRESSION MODEL######\n",
    "LR_classifier = LogisticRegression()\n",
    "LR_classifier.fit(X_train,y_train)"
   ]
  },
  {
   "cell_type": "markdown",
   "metadata": {},
   "source": [
    "## begin added  code - Jeremy"
   ]
  },
  {
   "cell_type": "code",
   "execution_count": 75,
   "metadata": {
    "collapsed": true
   },
   "outputs": [],
   "source": [
    "#these lines suppress the pink columns warnings\n",
    "\n",
    "import warnings\n",
    "warnings.filterwarnings('ignore')"
   ]
  },
  {
   "cell_type": "markdown",
   "metadata": {},
   "source": [
    "### I used this code snippet for each of your types of models.  We just create an estimator and let cross_val_score\n",
    "### do all the work."
   ]
  },
  {
   "cell_type": "code",
   "execution_count": 76,
   "metadata": {
    "collapsed": false,
    "scrolled": false
   },
   "outputs": [
    {
     "name": "stdout",
     "output_type": "stream",
     "text": [
      "LR Accuracy: 0.78 (+/- 0.00)\n"
     ]
    }
   ],
   "source": [
    "LR_classifier_jeremy = LogisticRegression()\n",
    "# LR_classifier.fit(X_train,y_train)\n",
    "scores = cross_val_score(LR_classifier_jeremy,X,y,cv=10, n_jobs=-1,scoring='accuracy')\n",
    "print(\"LR Accuracy: %0.2f (+/- %0.2f)\" % (scores.mean(), scores.std() * 2))"
   ]
  },
  {
   "cell_type": "markdown",
   "metadata": {},
   "source": [
    "## end Jeremy code"
   ]
  },
  {
   "cell_type": "code",
   "execution_count": 22,
   "metadata": {
    "collapsed": false,
    "deletable": true,
    "editable": true
   },
   "outputs": [
    {
     "name": "stdout",
     "output_type": "stream",
     "text": [
      "The 10 fold cross validation score based on Logistic Regression Model is:  0.784\n",
      "The Default Probability based on Logistic Regression Model is : 0.000\n",
      "The accuracy of Logistic Regression Model on test set is :  0.784\n",
      "[[3529    0]\n",
      " [ 971    0]]\n",
      "             precision    recall  f1-score   support\n",
      "\n",
      "          0       0.78      1.00      0.88      3529\n",
      "          1       0.00      0.00      0.00       971\n",
      "\n",
      "avg / total       0.62      0.78      0.69      4500\n",
      "\n"
     ]
    }
   ],
   "source": [
    "#10-fold cross-validation,if the evaluation score suggests not overfitting, predict the default status for each sample in test set\n",
    "LR_cross_val_scores = cross_val_score(LR_classifier,X_test,y_test,scoring='accuracy',cv=10)\n",
    "print(\"The 10 fold cross validation score based on Logistic Regression Model is: \",'%.3f'%LR_cross_val_scores.mean())\n",
    "\n",
    "if LR_cross_val_scores.mean() >0.97:\n",
    "    print (\" The Logistic Regression Model is overfitting in this case.\")\n",
    "else:\n",
    "    LR_predicted=LR_classifier.predict(X_test)\n",
    "    #generate default probabilities based on test set\n",
    "    LR_prob_default=np.sum(LR_predicted)/len(LR_predicted)\n",
    "    print(\"The Default Probability based on Logistic Regression Model is :\",'%.3f'%LR_prob_default)\n",
    "    LR_accuracy=LR_classifier.score(X_test,y_test)\n",
    "    print(\"The accuracy of Logistic Regression Model on test set is : \",'%.3f'%LR_accuracy)\n",
    "    print(metrics.confusion_matrix(y_test,LR_predicted))\n",
    "    print (metrics.classification_report(y_test,LR_predicted))\n",
    "    "
   ]
  },
  {
   "cell_type": "code",
   "execution_count": 25,
   "metadata": {
    "collapsed": false,
    "deletable": true,
    "editable": true
   },
   "outputs": [
    {
     "name": "stdout",
     "output_type": "stream",
     "text": [
      "                 Model  Default_Probability  Cross_Validation_Accuracy  \\\n",
      "0  Logistic Regression                  0.0                      0.784   \n",
      "\n",
      "   Test_Accuracy  \n",
      "0       0.784222  \n"
     ]
    }
   ],
   "source": [
    "#create a dataframe to store evaluation info of different models\n",
    "evaluation = pd.DataFrame({'Model':['Logistic Regression'],'Default_Probability':[LR_prob_default],'Cross_Validation_Accuracy':[LR_cross_val_scores.mean()],'Test_Accuracy':[LR_accuracy]})\n",
    "evaluation=evaluation[['Model','Default_Probability','Cross_Validation_Accuracy','Test_Accuracy']]\n",
    "print(evaluation)"
   ]
  },
  {
   "cell_type": "code",
   "execution_count": 26,
   "metadata": {
    "collapsed": true,
    "deletable": true,
    "editable": true
   },
   "outputs": [],
   "source": [
    "#########MODEL TWO: RANDOM FOREST MODEL#########\n",
    "RF_classifier = RandomForestClassifier(random_state=0)"
   ]
  },
  {
   "cell_type": "markdown",
   "metadata": {},
   "source": [
    "## begin added  code - Jeremy"
   ]
  },
  {
   "cell_type": "code",
   "execution_count": 27,
   "metadata": {
    "collapsed": false
   },
   "outputs": [
    {
     "name": "stdout",
     "output_type": "stream",
     "text": [
      "RF Accuracy: 0.81 (+/- 0.02)\n"
     ]
    }
   ],
   "source": [
    "RF_classifier_jeremy = RandomForestClassifier(random_state=0)\n",
    "scores = cross_val_score(RF_classifier_jeremy,X,y,cv=10, n_jobs=-1,scoring='accuracy')\n",
    "print(\"RF Accuracy: %0.2f (+/- %0.2f)\" % (scores.mean(), scores.std() * 2))"
   ]
  },
  {
   "cell_type": "markdown",
   "metadata": {},
   "source": [
    "## end Jeremy code"
   ]
  },
  {
   "cell_type": "code",
   "execution_count": 28,
   "metadata": {
    "collapsed": false,
    "deletable": true,
    "editable": true
   },
   "outputs": [
    {
     "name": "stdout",
     "output_type": "stream",
     "text": [
      "The 10 fold cross validation score based on Naive Bayes Model(Non Scaled) is:  0.805\n"
     ]
    }
   ],
   "source": [
    "# 10 Fold Cross Validation over the entire training set\n",
    "kf=KFold(n_splits=10,shuffle=False)\n",
    "RF_cross_val_score=0\n",
    "for train_index, test_index in kf.split(X_train):\n",
    "    X_train_subset, X_test_subset=X_train.iloc[train_index],X_train.iloc[test_index]\n",
    "    y_train_subset, y_test_subset=y_train.iloc[train_index],y_train.iloc[test_index]\n",
    "    RF_classifier.fit(X_train_subset,y_train_subset)\n",
    "    RF_cross_val_score=RF_cross_val_score+RF_classifier.score(X_test_subset,y_test_subset)\n",
    "RF_cross_val_score=RF_cross_val_score/10\n",
    "print(\"The 10 fold cross validation score based on Naive Bayes Model(Non Scaled) is: \",'%.3f'%RF_cross_val_score)"
   ]
  },
  {
   "cell_type": "code",
   "execution_count": 29,
   "metadata": {
    "collapsed": false,
    "deletable": true,
    "editable": true
   },
   "outputs": [
    {
     "name": "stdout",
     "output_type": "stream",
     "text": [
      "The Default Probability based on Random Forest Model is : 0.107\n",
      "The accuracy of Random Forest Model on test set is :  0.814\n",
      "[[3354  175]\n",
      " [ 663  308]]\n",
      "             precision    recall  f1-score   support\n",
      "\n",
      "          0       0.83      0.95      0.89      3529\n",
      "          1       0.64      0.32      0.42       971\n",
      "\n",
      "avg / total       0.79      0.81      0.79      4500\n",
      "\n"
     ]
    }
   ],
   "source": [
    "# if the score is less than 0.975, then build the classifier with the entire training set\n",
    "if RF_cross_val_score >0.97:\n",
    "    print (\" The Random Forest Model is overfitting in this case.\")\n",
    "else:\n",
    "    RF_classifier.fit(X_train,y_train)\n",
    "    RF_predicted=RF_classifier.predict(X_test)\n",
    "    RF_prob_default=np.sum(RF_predicted)/len(RF_predicted)\n",
    "    print(\"The Default Probability based on Random Forest Model is :\",'%.3f'%RF_prob_default)\n",
    "    RF_accuracy=RF_classifier.score(X_test,y_test)\n",
    "    print(\"The accuracy of Random Forest Model on test set is : \",'%.3f'%RF_accuracy)\n",
    "    print(metrics.confusion_matrix(y_test,RF_predicted))\n",
    "    print(metrics.classification_report(y_test,RF_predicted))"
   ]
  },
  {
   "cell_type": "code",
   "execution_count": 30,
   "metadata": {
    "collapsed": false,
    "deletable": true,
    "editable": true
   },
   "outputs": [
    {
     "name": "stdout",
     "output_type": "stream",
     "text": [
      "The most important feature is: PAY_0\n"
     ]
    }
   ],
   "source": [
    "features_weight=RF_classifier.fit(X_test,y_test).feature_importances_\n",
    "feature_index = np.where(features_weight==max(features_weight))\n",
    "feature_index=int(feature_index[0][0])\n",
    "print(\"The most important feature is:\",(list(X_test)[feature_index]))"
   ]
  },
  {
   "cell_type": "code",
   "execution_count": 31,
   "metadata": {
    "collapsed": false,
    "deletable": true,
    "editable": true
   },
   "outputs": [
    {
     "name": "stdout",
     "output_type": "stream",
     "text": [
      "                 Model  Default_Probability  Cross_Validation_Accuracy  \\\n",
      "0  Logistic Regression             0.000000                    0.78400   \n",
      "0        Random Forest             0.107333                    0.80549   \n",
      "\n",
      "   Test_Accuracy  \n",
      "0       0.784222  \n",
      "0       0.813778  \n"
     ]
    }
   ],
   "source": [
    "#output the result into the existing evaluation dataframe to compare with other model\n",
    "new_evaluation=pd.DataFrame({'Model':[\"Random Forest\"],'Default_Probability':[RF_prob_default],'Cross_Validation_Accuracy':[RF_cross_val_score],'Test_Accuracy':[RF_accuracy]})\n",
    "evaluation = evaluation.append(new_evaluation)\n",
    "evaluation=evaluation[['Model','Default_Probability','Cross_Validation_Accuracy','Test_Accuracy']]\n",
    "print(evaluation)"
   ]
  },
  {
   "cell_type": "code",
   "execution_count": null,
   "metadata": {
    "collapsed": true
   },
   "outputs": [],
   "source": []
  },
  {
   "cell_type": "markdown",
   "metadata": {},
   "source": [
    "## begin added  code - Jeremy"
   ]
  },
  {
   "cell_type": "code",
   "execution_count": 32,
   "metadata": {
    "collapsed": false
   },
   "outputs": [
    {
     "name": "stdout",
     "output_type": "stream",
     "text": [
      "NB Accuracy: 0.38 (+/- 0.03)\n"
     ]
    }
   ],
   "source": [
    "NB_classifier_jeremy=GaussianNB()\n",
    "scores = cross_val_score(NB_classifier_jeremy,X,y,cv=10, n_jobs=-1,scoring='accuracy')\n",
    "print(\"NB Accuracy: %0.2f (+/- %0.2f)\" % (scores.mean(), scores.std() * 2))"
   ]
  },
  {
   "cell_type": "markdown",
   "metadata": {},
   "source": [
    "## end Jeremy code"
   ]
  },
  {
   "cell_type": "code",
   "execution_count": 42,
   "metadata": {
    "collapsed": false,
    "deletable": true,
    "editable": true
   },
   "outputs": [
    {
     "name": "stdout",
     "output_type": "stream",
     "text": [
      "The 10 fold cross validation score based on Naive Bayes Model is:  0.378\n"
     ]
    }
   ],
   "source": [
    "########MODEL THREE: NAIVE BAYES #######################\n",
    "### Non Scaled ####\n",
    "#10-fold cross validation for the entire standardized training data without scaling/normalization/standarization\n",
    "NB_classifier=GaussianNB()\n",
    "kf=KFold(n_splits=10,shuffle=False)\n",
    "NB_cross_val_score=0\n",
    "for train_index, test_index in kf.split(X_train):\n",
    "    X_train_subset, X_test_subset=X_train.iloc[train_index],X_train.iloc[test_index]\n",
    "    y_train_subset, y_test_subset=y_train.iloc[train_index],y_train.iloc[test_index]\n",
    "    NB_classifier.fit(X_train_subset,y_train_subset)\n",
    "    NB_cross_val_score=NB_cross_val_score+NB_classifier.score(X_test_subset,y_test_subset)\n",
    "    \n",
    "NB_cross_val_score=NB_cross_val_score/10\n",
    "print(\"The 10 fold cross validation score based on Naive Bayes Model is: \",'%.3f'%NB_cross_val_score)"
   ]
  },
  {
   "cell_type": "code",
   "execution_count": 43,
   "metadata": {
    "collapsed": false,
    "deletable": true,
    "editable": true
   },
   "outputs": [
    {
     "name": "stdout",
     "output_type": "stream",
     "text": [
      "The Default Probability based on Naive Bayes Model is : 0.805\n",
      "The accuracy of Naive Bayes Model on test set is :  0.368\n"
     ]
    }
   ],
   "source": [
    "if NB_cross_val_score >0.97:\n",
    "    print (\"The Naive Bayes Model is overfitting in this case.\")\n",
    "else:\n",
    "    NB_classifier.fit(X_train,y_train)\n",
    "    NB_predicted=NB_classifier.predict(X_test)\n",
    "    NB_prob_default=np.sum(NB_predicted)/len(NB_predicted)\n",
    "    print(\"The Default Probability based on Naive Bayes Model is :\",'%.3f'%NB_prob_default)\n",
    "    NB_accuracy=NB_classifier.score(X_test,y_test)\n",
    "    print(\"The accuracy of Naive Bayes Model on test set is : \",'%.3f'%NB_accuracy)"
   ]
  },
  {
   "cell_type": "code",
   "execution_count": 44,
   "metadata": {
    "collapsed": false,
    "deletable": true,
    "editable": true
   },
   "outputs": [
    {
     "name": "stdout",
     "output_type": "stream",
     "text": [
      "                   Model  Default_Probability  Cross_Validation_Accuracy  \\\n",
      "0    Logistic Regression             0.000000                   0.784000   \n",
      "0          Random Forest             0.107333                   0.805490   \n",
      "0  Naive Bayes_NonScaled             0.804667                   0.378078   \n",
      "0  Naive Bayes_NonScaled             0.804667                   0.378078   \n",
      "\n",
      "   Test_Accuracy  \n",
      "0       0.784222  \n",
      "0       0.813778  \n",
      "0       0.367556  \n",
      "0       0.367556  \n"
     ]
    }
   ],
   "source": [
    "#output the result into the existing evaluation dataframe to compare with other models\n",
    "new_evaluation=pd.DataFrame({'Model':[\"Naive Bayes_NonScaled\"],'Default_Probability':[NB_prob_default],'Cross_Validation_Accuracy':[NB_cross_val_score],'Test_Accuracy':[NB_accuracy]})\n",
    "evaluation = evaluation.append(new_evaluation)\n",
    "evaluation=evaluation[['Model','Default_Probability','Cross_Validation_Accuracy','Test_Accuracy']]\n",
    "print(evaluation)"
   ]
  },
  {
   "cell_type": "markdown",
   "metadata": {},
   "source": [
    "## begin added  code - Jeremy"
   ]
  },
  {
   "cell_type": "code",
   "execution_count": 36,
   "metadata": {
    "collapsed": true
   },
   "outputs": [],
   "source": [
    "from sklearn.preprocessing import StandardScaler\n",
    "scaler = StandardScaler()"
   ]
  },
  {
   "cell_type": "code",
   "execution_count": 37,
   "metadata": {
    "collapsed": false
   },
   "outputs": [
    {
     "name": "stdout",
     "output_type": "stream",
     "text": [
      "NB Accuracy: 0.71 (+/- 0.06)\n"
     ]
    }
   ],
   "source": [
    "from sklearn.preprocessing import StandardScaler\n",
    "scaler = StandardScaler()\n",
    "NB_classifier_jeremy_scaled=GaussianNB()\n",
    "X_scaled = scaler.fit_transform(X)\n",
    "scores = cross_val_score(NB_classifier_jeremy_scaled,X_scaled,y,cv=10, n_jobs=-1,scoring='accuracy')\n",
    "print(\"NB Accuracy: %0.2f (+/- %0.2f)\" % (scores.mean(), scores.std() * 2))\n"
   ]
  },
  {
   "cell_type": "markdown",
   "metadata": {},
   "source": [
    "## end Jeremy code"
   ]
  },
  {
   "cell_type": "markdown",
   "metadata": {},
   "source": [
    "### The reason you were getting the label error is that you were scaling the y variable.  You don't need to do that.  You can see how much of a difference scaling made"
   ]
  },
  {
   "cell_type": "code",
   "execution_count": 52,
   "metadata": {
    "collapsed": false,
    "deletable": true,
    "editable": true
   },
   "outputs": [
    {
     "name": "stdout",
     "output_type": "stream",
     "text": [
      "####################################\n",
      "####################################\n",
      "####################################\n",
      "####################################\n",
      "####################################\n",
      "####################################\n",
      "####################################\n",
      "####################################\n",
      "####################################\n",
      "####################################\n",
      "The 10 fold cross validation score based on Naive Bayes Model(Scaled) is:  0.079\n"
     ]
    }
   ],
   "source": [
    "#10-fold cross validation for the entire standardized training set\n",
    "NB_cross_val_score_scaled=0\n",
    "for NBtrain_index, NBtest_index in kf.split(X_train):\n",
    "    X_train_subset, X_test_subset=X_train.iloc[NBtrain_index],X_train.iloc[NBtest_index]\n",
    "    y_train_subset, y_test_subset=y_train.iloc[NBtrain_index],y_train.iloc[NBtest_index]\n",
    "    #standardization\n",
    "    X_train_scaled_subset=(X_train_subset-X_train_subset.mean())/X_train_subset.std()\n",
    "    y_train_scaled_subset=(y_train_subset-y_train_subset.mean())/y_train_subset.std()\n",
    "    X_test_scaled_subset=(X_test_subset-X_test_subset.mean())/X_test_subset.std()\n",
    "    y_test_scaled_subset=(y_test_subset-y_test_subset.mean())/y_test_subset.std()\n",
    "    # turn the dataframe subset, which is 2D array into 1D array\n",
    "#     y_train_scaled_subset=np.asarray(y_train_scaled_subset,dtype=\"|S6\")\n",
    "#     y_test_scaled_subset=np.asarray(y_test_scaled_subset,dtype=\"|S6\")\n",
    "    NB_classifier.fit(X_train_scaled_subset,y_train_subset)\n",
    "    NB_predicted_subset=NB_classifier.predict(X_test_scaled_subset)\n",
    "    print(\"####################################\")\n",
    "    NB_cross_val_score_scaled=NB_cross_val_score_scaled+NB_classifier.score(X_test_scaled_subset,y_test_subset)\n",
    "\n",
    "    NB_cross_val_score_scaled=NB_cross_val_score_scaled/10\n",
    "print(\"The 10 fold cross validation score based on Naive Bayes Model(Scaled) is: \",'%.3f'%NB_cross_val_score_scaled)"
   ]
  },
  {
   "cell_type": "code",
   "execution_count": null,
   "metadata": {
    "collapsed": false,
    "deletable": true,
    "editable": true
   },
   "outputs": [],
   "source": [
    "if NB_cross_val_score >0.97:\n",
    "    print (\" The Naive Bayes Model (scaled) is overfitting in this case.\")\n",
    "else:\n",
    "    #standardization\n",
    "    X_train_scaled=(X_train-X_train.mean())/X_train.std()\n",
    "    y_train_scaled=(y_train-y_train.mean())/y_train.std()\n",
    "    X_test_scaled=(X_test-X_test.mean())/X_test.std()\n",
    "    y_test_scaled=(y_test-y_test.mean())/y_test.std()\n",
    "    # turn the dataframe subset, which is 2D array into 1D array\n",
    "    y_train_scaled=np.asarray(y_train_scaled,dtype=\"|S6\")\n",
    "    y_test_scaled=np.asarray(y_test_scaled,dtype=\"|S6\") \n",
    "    NB_classifier.fit(X_train_scaled,y_train_scaled)\n",
    "    NB_predicted_scaled=NB_classifier.predict(X_test_scaled)\n",
    "    NB_predicted_default=pd.value_counts(pd.Series(NB_predicted_scaled))[1]\n",
    "    NB_predicted_nondefault=pd.value_counts(pd.Series(NB_predicted_scaled))[0] \n",
    "    NB_prob_default_scaled=NB_predicted_default/(NB_predicted_default+NB_predicted_nondefault)\n",
    "    print(\"The Default Probability based on Naive Bayes Model is :\",'%.3f'%NB_prob_default_scaled)\n",
    "    #print(pd.value_counts(pd.Series(NB_predicted_scaled)))\n",
    "    #print(y_test_scaled.)\n",
    "    #print(accuracy_score(y_test_scaled,NB_predicted_scaled))\n",
    "    NB_accuracy=NB_classifier.score(X_test_scaled,y_test_scaled)\n",
    "    print(\"The accuracy of Naive Bayes Model on test set is : \",'%.3f'%NB_accuracy)"
   ]
  },
  {
   "cell_type": "code",
   "execution_count": null,
   "metadata": {
    "collapsed": true,
    "deletable": true,
    "editable": true
   },
   "outputs": [],
   "source": [
    "#output the result into the existing evaluation dataframe to compare with other models\n",
    "#new_evaluation=pd.DataFrame({'Model':[\"Naive Bayes\"],'Default_Probability':[NB_prob_default],'Cross_Validation_Accuracy':[NB_cross_val_score],'Test_Accuracy':[NB_accuracy]})\n",
    "#evaluation = evaluation.append(new_evaluation)\n",
    "#evaluation=evaluation[['Model','Default_Probability','Cross_Validation_Accuracy','Test_Accuracy']]\n",
    "#print(evaluation)"
   ]
  },
  {
   "cell_type": "code",
   "execution_count": null,
   "metadata": {
    "collapsed": true,
    "deletable": true,
    "editable": true
   },
   "outputs": [],
   "source": []
  }
 ],
 "metadata": {
  "kernelspec": {
   "display_name": "Python [default]",
   "language": "python",
   "name": "python3"
  },
  "language_info": {
   "codemirror_mode": {
    "name": "ipython",
    "version": 3
   },
   "file_extension": ".py",
   "mimetype": "text/x-python",
   "name": "python",
   "nbconvert_exporter": "python",
   "pygments_lexer": "ipython3",
   "version": "3.5.2"
  }
 },
 "nbformat": 4,
 "nbformat_minor": 2
}
